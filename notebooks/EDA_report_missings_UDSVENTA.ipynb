{
 "cells": [
  {
   "cell_type": "markdown",
   "metadata": {},
   "source": [
    "<div style=\"background-color: #EDF7FF; border-color: #7C9DBF; border-left: 5px solid #7C9DBF; padding: 0.5em;\">\n",
    " \n",
    "\n",
    "<strong>Objectives:</strong>\n",
    "+ Estudiar los missings en la variable uds venta\n",
    "+ Discernir ceros (no venta) de verdaderos missings (datos faltantes)\n",
    "    \n",
    "    \n",
    "<strong>Conclusions:</strong>\n",
    "+ Hay datos faltantes correspondientes a los días 23, 24, 25 y 26\n",
    "+ El resto no nos queda otra que considerarlos venta 0.\n",
    "\n",
    "   \n",
    "</div>"
   ]
  },
  {
   "cell_type": "code",
   "execution_count": null,
   "metadata": {},
   "outputs": [],
   "source": [
    "import os, sys\n",
    "\n",
    "def get_root_path(search_word):\n",
    "    \"\"\" Búsqueda hacia atrás de un directorio con nombre search_word. \"\"\"\n",
    "    cwd = os.getcwd()\n",
    "    while str(os.getcwd()).split('/')[-1] != search_word:\n",
    "        os.chdir(\"..\")\n",
    "        cwd = os.getcwd()\n",
    "    return cwd\n",
    "\n",
    "ROOT_DIR = get_root_path('TFM_StockForecast')\n",
    "\n",
    "sys.path.insert(0, ROOT_DIR) # Poner en el primer lugar del PATH (evitar paquetes con mismos nombres en otros directorios)"
   ]
  },
  {
   "cell_type": "code",
   "execution_count": 2,
   "metadata": {},
   "outputs": [],
   "source": [
    "import pandas as pd"
   ]
  },
  {
   "cell_type": "code",
   "execution_count": 72,
   "metadata": {},
   "outputs": [],
   "source": [
    "# PRINT EDA FOR STOCK DATA\n",
    "df = pd.read_csv(\"data/clean/stock_all.csv\")\n",
    "\n",
    "variable = \"udsventa\""
   ]
  },
  {
   "cell_type": "code",
   "execution_count": 73,
   "metadata": {},
   "outputs": [],
   "source": [
    "def filter_festivos(indf, only):\n",
    "    df = indf.copy()\n",
    "    if only:\n",
    "        df = df.loc[(df.festivo == 1) | (df.weekday == 6)]\n",
    "    else: \n",
    "        df = df.loc[(df.festivo != 1) & (df.weekday != 6)]\n",
    "    return df\n",
    "def perc(df1, df2):\n",
    "    return round(100* df1.shape[0]/df2.shape[0])"
   ]
  },
  {
   "cell_type": "code",
   "execution_count": 82,
   "metadata": {},
   "outputs": [],
   "source": [
    "# Declarar todos los df de estudio:\n",
    "\n",
    "# ventas_byprod\n",
    "ventas_byprod = pd.read_csv(\"data/clean/ventas_byprod.csv\")\n",
    "\n",
    "\n",
    "# df con registros con valores, con 0s y missings\n",
    "exist = df.loc[~df[variable].isna()]\n",
    "miss = df.loc[df[variable].isna()]\n",
    "zeros = df.loc[df[variable] == 0]\n",
    "\n",
    "# Missings sin contar las vacaciones\n",
    "miss_noholiday = filter_festivos(miss, False)\n",
    "\n",
    "# Missings por producto\n",
    "byprod = miss_noholiday.groupby(\"producto\")['fecha'].count().reset_index().sort_values(\"fecha\", ascending=False)\n",
    "byprod.columns = [\"producto\", \"num_missings\"]\n",
    "\n",
    "# Missings por fecha\n",
    "bydate = miss_noholiday.groupby(\"fecha\")['producto'].count().reset_index().sort_values(\"producto\", ascending=False)\n",
    "bydate.columns = [\"fecha\", \"num_missings\"]\n",
    "\n",
    "# Missings por dia de la semana\n",
    "byday = miss.groupby(\"weekday\")['producto'].count().reset_index().sort_values(\"producto\", ascending=False)\n",
    "byday.columns = [\"weekday\", \"num_missings\"]"
   ]
  },
  {
   "cell_type": "markdown",
   "metadata": {},
   "source": [
    "# Analisis previo"
   ]
  },
  {
   "cell_type": "code",
   "execution_count": 83,
   "metadata": {},
   "outputs": [
    {
     "name": "stdout",
     "output_type": "stream",
     "text": [
      "Registros totales en dataset: 24272 \n",
      "Productos totales: 82 \n",
      "Días totales: 296 \n",
      "Dias totales de vacaciones: 50 \n"
     ]
    }
   ],
   "source": [
    "print(\"Registros totales en dataset: {} \".format(df.shape[0]))\n",
    "print(\"Productos totales: {} \".format(len(df.producto.unique())))\n",
    "print(\"Días totales: {} \".format(len(df.fecha.unique())))\n",
    "print(\"Dias totales de vacaciones: {} \".format(len(filter_festivos(df, True).fecha.unique())))"
   ]
  },
  {
   "cell_type": "markdown",
   "metadata": {},
   "source": [
    "# Datos existentes en dias de vacaciones (festivos y domingos)"
   ]
  },
  {
   "cell_type": "code",
   "execution_count": 84,
   "metadata": {},
   "outputs": [
    {
     "name": "stdout",
     "output_type": "stream",
     "text": [
      "  Valores existentes en dias de vacaciones: 270\n",
      "  Dias existentes de vacaciones con datos: 7\n"
     ]
    },
    {
     "data": {
      "text/plain": [
       "array(['2019-06-30', '2019-10-13', '2019-11-01', '2019-12-06',\n",
       "       '2019-12-09', '2020-01-01', '2020-01-05'], dtype=object)"
      ]
     },
     "execution_count": 84,
     "metadata": {},
     "output_type": "execute_result"
    }
   ],
   "source": [
    "print(\"  Valores existentes en dias de vacaciones: {}\"\\\n",
    "                .format(filter_festivos(exist, True).shape[0]))\n",
    "\n",
    "print(\"  Dias existentes de vacaciones con datos: {}\"\\\n",
    "                .format(len(filter_festivos(exist, True).fecha.unique())))\n",
    "\n",
    "filter_festivos(exist, True).fecha.unique()"
   ]
  },
  {
   "cell_type": "code",
   "execution_count": 85,
   "metadata": {},
   "outputs": [
    {
     "name": "stdout",
     "output_type": "stream",
     "text": [
      "Dias festivos con datos:\n"
     ]
    },
    {
     "data": {
      "text/plain": [
       "fecha\n",
       "2019-06-30    28\n",
       "2019-10-13    28\n",
       "2019-11-01    69\n",
       "2019-12-06    48\n",
       "2019-12-09    71\n",
       "2020-01-01     7\n",
       "2020-01-05    19\n",
       "Name: producto, dtype: int64"
      ]
     },
     "execution_count": 85,
     "metadata": {},
     "output_type": "execute_result"
    }
   ],
   "source": [
    "print(\"Dias festivos con datos:\")\n",
    "filter_festivos(exist, True).groupby(\"fecha\")['producto'].count()"
   ]
  },
  {
   "cell_type": "markdown",
   "metadata": {},
   "source": [
    "¿Porqué tienen datos estos festivos?"
   ]
  },
  {
   "cell_type": "markdown",
   "metadata": {},
   "source": [
    "# Datos perdidos en el total y sin contar las vacaciones"
   ]
  },
  {
   "cell_type": "code",
   "execution_count": 94,
   "metadata": {},
   "outputs": [
    {
     "name": "stdout",
     "output_type": "stream",
     "text": [
      "  Valores missings in udsventa:                                                              7243 (30%)\n",
      "  Valores con ceros in udsventa:                                                             131 (1%)\n",
      "  Valores missings in udsventa sin domingos y festivos:                                      3413 (14%)\n",
      "  Valores missings in udsventa sin domingos y festivos y con datos anteriores al 2020-03-23: 3085 (14%)\n"
     ]
    }
   ],
   "source": [
    "print(\"  Valores missings in udsventa:                                                              {} ({}%)\"\\\n",
    "                .format(miss.shape[0], perc(miss, df)))\n",
    "\n",
    "print(\"  Valores con ceros in udsventa:                                                             {} ({}%)\"\\\n",
    "                .format(zeros.shape[0], perc(zeros, df)))\n",
    "\n",
    "print(\"  Valores missings in udsventa sin domingos y festivos:                                      {} ({}%)\"\\\n",
    "                .format(miss_noholiday.shape[0], perc(miss_noholiday, df)))\n",
    "\n",
    "print(\"  Valores missings in udsventa sin domingos y festivos y con datos anteriores al 2020-03-23: {} ({}%)\"\\\n",
    "                .format(miss_noholiday.loc[miss_noholiday.fecha < '2020-03-23'].shape[0], perc(miss_noholiday, df)))"
   ]
  },
  {
   "cell_type": "code",
   "execution_count": 81,
   "metadata": {},
   "outputs": [
    {
     "data": {
      "text/html": [
       "<div>\n",
       "<style scoped>\n",
       "    .dataframe tbody tr th:only-of-type {\n",
       "        vertical-align: middle;\n",
       "    }\n",
       "\n",
       "    .dataframe tbody tr th {\n",
       "        vertical-align: top;\n",
       "    }\n",
       "\n",
       "    .dataframe thead th {\n",
       "        text-align: right;\n",
       "    }\n",
       "</style>\n",
       "<table border=\"1\" class=\"dataframe\">\n",
       "  <thead>\n",
       "    <tr style=\"text-align: right;\">\n",
       "      <th></th>\n",
       "      <th>fecha</th>\n",
       "      <th>producto</th>\n",
       "      <th>udsstock</th>\n",
       "      <th>udsventa</th>\n",
       "      <th>udsprevisionempresa</th>\n",
       "      <th>promo</th>\n",
       "      <th>festivo</th>\n",
       "      <th>weekday</th>\n",
       "    </tr>\n",
       "  </thead>\n",
       "  <tbody>\n",
       "    <tr>\n",
       "      <th>324</th>\n",
       "      <td>2019-06-08</td>\n",
       "      <td>96</td>\n",
       "      <td>NaN</td>\n",
       "      <td>0.0</td>\n",
       "      <td>251.0</td>\n",
       "      <td>1.0</td>\n",
       "      <td>0.0</td>\n",
       "      <td>5</td>\n",
       "    </tr>\n",
       "    <tr>\n",
       "      <th>9242</th>\n",
       "      <td>2019-09-25</td>\n",
       "      <td>71</td>\n",
       "      <td>135.0</td>\n",
       "      <td>0.0</td>\n",
       "      <td>464.0</td>\n",
       "      <td>0.0</td>\n",
       "      <td>0.0</td>\n",
       "      <td>2</td>\n",
       "    </tr>\n",
       "    <tr>\n",
       "      <th>9261</th>\n",
       "      <td>2019-09-25</td>\n",
       "      <td>95</td>\n",
       "      <td>26.0</td>\n",
       "      <td>0.0</td>\n",
       "      <td>545.0</td>\n",
       "      <td>0.0</td>\n",
       "      <td>0.0</td>\n",
       "      <td>2</td>\n",
       "    </tr>\n",
       "    <tr>\n",
       "      <th>9324</th>\n",
       "      <td>2019-09-26</td>\n",
       "      <td>71</td>\n",
       "      <td>135.0</td>\n",
       "      <td>0.0</td>\n",
       "      <td>226.0</td>\n",
       "      <td>0.0</td>\n",
       "      <td>0.0</td>\n",
       "      <td>3</td>\n",
       "    </tr>\n",
       "    <tr>\n",
       "      <th>9406</th>\n",
       "      <td>2019-09-27</td>\n",
       "      <td>71</td>\n",
       "      <td>135.0</td>\n",
       "      <td>0.0</td>\n",
       "      <td>226.0</td>\n",
       "      <td>0.0</td>\n",
       "      <td>0.0</td>\n",
       "      <td>4</td>\n",
       "    </tr>\n",
       "    <tr>\n",
       "      <th>...</th>\n",
       "      <td>...</td>\n",
       "      <td>...</td>\n",
       "      <td>...</td>\n",
       "      <td>...</td>\n",
       "      <td>...</td>\n",
       "      <td>...</td>\n",
       "      <td>...</td>\n",
       "      <td>...</td>\n",
       "    </tr>\n",
       "    <tr>\n",
       "      <th>22487</th>\n",
       "      <td>2020-03-05</td>\n",
       "      <td>29</td>\n",
       "      <td>NaN</td>\n",
       "      <td>0.0</td>\n",
       "      <td>0.0</td>\n",
       "      <td>0.0</td>\n",
       "      <td>0.0</td>\n",
       "      <td>3</td>\n",
       "    </tr>\n",
       "    <tr>\n",
       "      <th>22815</th>\n",
       "      <td>2020-03-09</td>\n",
       "      <td>29</td>\n",
       "      <td>NaN</td>\n",
       "      <td>0.0</td>\n",
       "      <td>0.0</td>\n",
       "      <td>0.0</td>\n",
       "      <td>0.0</td>\n",
       "      <td>0</td>\n",
       "    </tr>\n",
       "    <tr>\n",
       "      <th>22897</th>\n",
       "      <td>2020-03-10</td>\n",
       "      <td>29</td>\n",
       "      <td>NaN</td>\n",
       "      <td>0.0</td>\n",
       "      <td>0.0</td>\n",
       "      <td>0.0</td>\n",
       "      <td>0.0</td>\n",
       "      <td>1</td>\n",
       "    </tr>\n",
       "    <tr>\n",
       "      <th>23471</th>\n",
       "      <td>2020-03-17</td>\n",
       "      <td>29</td>\n",
       "      <td>NaN</td>\n",
       "      <td>0.0</td>\n",
       "      <td>0.0</td>\n",
       "      <td>0.0</td>\n",
       "      <td>0.0</td>\n",
       "      <td>1</td>\n",
       "    </tr>\n",
       "    <tr>\n",
       "      <th>23635</th>\n",
       "      <td>2020-03-19</td>\n",
       "      <td>29</td>\n",
       "      <td>NaN</td>\n",
       "      <td>0.0</td>\n",
       "      <td>0.0</td>\n",
       "      <td>0.0</td>\n",
       "      <td>0.0</td>\n",
       "      <td>3</td>\n",
       "    </tr>\n",
       "  </tbody>\n",
       "</table>\n",
       "<p>131 rows × 8 columns</p>\n",
       "</div>"
      ],
      "text/plain": [
       "            fecha  producto  udsstock  udsventa  udsprevisionempresa  promo  \\\n",
       "324    2019-06-08        96       NaN       0.0                251.0    1.0   \n",
       "9242   2019-09-25        71     135.0       0.0                464.0    0.0   \n",
       "9261   2019-09-25        95      26.0       0.0                545.0    0.0   \n",
       "9324   2019-09-26        71     135.0       0.0                226.0    0.0   \n",
       "9406   2019-09-27        71     135.0       0.0                226.0    0.0   \n",
       "...           ...       ...       ...       ...                  ...    ...   \n",
       "22487  2020-03-05        29       NaN       0.0                  0.0    0.0   \n",
       "22815  2020-03-09        29       NaN       0.0                  0.0    0.0   \n",
       "22897  2020-03-10        29       NaN       0.0                  0.0    0.0   \n",
       "23471  2020-03-17        29       NaN       0.0                  0.0    0.0   \n",
       "23635  2020-03-19        29       NaN       0.0                  0.0    0.0   \n",
       "\n",
       "       festivo  weekday  \n",
       "324        0.0        5  \n",
       "9242       0.0        2  \n",
       "9261       0.0        2  \n",
       "9324       0.0        3  \n",
       "9406       0.0        4  \n",
       "...        ...      ...  \n",
       "22487      0.0        3  \n",
       "22815      0.0        0  \n",
       "22897      0.0        1  \n",
       "23471      0.0        1  \n",
       "23635      0.0        3  \n",
       "\n",
       "[131 rows x 8 columns]"
      ]
     },
     "execution_count": 81,
     "metadata": {},
     "output_type": "execute_result"
    }
   ],
   "source": [
    "zeros"
   ]
  },
  {
   "cell_type": "code",
   "execution_count": null,
   "metadata": {},
   "outputs": [],
   "source": []
  },
  {
   "cell_type": "markdown",
   "metadata": {},
   "source": [
    "# Datos perdidos por producto"
   ]
  },
  {
   "cell_type": "code",
   "execution_count": 91,
   "metadata": {},
   "outputs": [
    {
     "name": "stdout",
     "output_type": "stream",
     "text": [
      "   Missings en udsventa sin domingos y festivos para 82 productos de 82 totales.\n",
      "   5 productos con más missings:\n"
     ]
    },
    {
     "data": {
      "text/html": [
       "<div>\n",
       "<style scoped>\n",
       "    .dataframe tbody tr th:only-of-type {\n",
       "        vertical-align: middle;\n",
       "    }\n",
       "\n",
       "    .dataframe tbody tr th {\n",
       "        vertical-align: top;\n",
       "    }\n",
       "\n",
       "    .dataframe thead th {\n",
       "        text-align: right;\n",
       "    }\n",
       "</style>\n",
       "<table border=\"1\" class=\"dataframe\">\n",
       "  <thead>\n",
       "    <tr style=\"text-align: right;\">\n",
       "      <th></th>\n",
       "      <th>producto</th>\n",
       "      <th>num_missings</th>\n",
       "    </tr>\n",
       "  </thead>\n",
       "  <tbody>\n",
       "    <tr>\n",
       "      <th>58</th>\n",
       "      <td>70</td>\n",
       "      <td>242</td>\n",
       "    </tr>\n",
       "    <tr>\n",
       "      <th>5</th>\n",
       "      <td>7</td>\n",
       "      <td>232</td>\n",
       "    </tr>\n",
       "    <tr>\n",
       "      <th>35</th>\n",
       "      <td>44</td>\n",
       "      <td>173</td>\n",
       "    </tr>\n",
       "    <tr>\n",
       "      <th>77</th>\n",
       "      <td>95</td>\n",
       "      <td>167</td>\n",
       "    </tr>\n",
       "    <tr>\n",
       "      <th>44</th>\n",
       "      <td>54</td>\n",
       "      <td>156</td>\n",
       "    </tr>\n",
       "  </tbody>\n",
       "</table>\n",
       "</div>"
      ],
      "text/plain": [
       "    producto  num_missings\n",
       "58        70           242\n",
       "5          7           232\n",
       "35        44           173\n",
       "77        95           167\n",
       "44        54           156"
      ]
     },
     "execution_count": 91,
     "metadata": {},
     "output_type": "execute_result"
    }
   ],
   "source": [
    "print(\"   Missings en udsventa sin domingos y festivos para {} productos de {} totales.\"\\\n",
    "                .format(byprod.loc[byprod.num_missings != 0].shape[0], byprod.shape[0]))\n",
    "print(\"   5 productos con más missings:\")\n",
    "byprod.head()"
   ]
  },
  {
   "cell_type": "code",
   "execution_count": 92,
   "metadata": {},
   "outputs": [
    {
     "data": {
      "text/plain": [
       "[7, 44, 82, 54, 71, 76]"
      ]
     },
     "execution_count": 92,
     "metadata": {},
     "output_type": "execute_result"
    }
   ],
   "source": [
    "list(ventas_byprod.loc[ventas_byprod.fecha_ultima_venta < '2020-01-01', ['producto', 'fecha_primera_venta', 'fecha_ultima_venta']]\\\n",
    ".sort_values(\"fecha_ultima_venta\").producto)"
   ]
  },
  {
   "cell_type": "code",
   "execution_count": 42,
   "metadata": {},
   "outputs": [
    {
     "data": {
      "text/html": [
       "<div>\n",
       "<style scoped>\n",
       "    .dataframe tbody tr th:only-of-type {\n",
       "        vertical-align: middle;\n",
       "    }\n",
       "\n",
       "    .dataframe tbody tr th {\n",
       "        vertical-align: top;\n",
       "    }\n",
       "\n",
       "    .dataframe thead th {\n",
       "        text-align: right;\n",
       "    }\n",
       "</style>\n",
       "<table border=\"1\" class=\"dataframe\">\n",
       "  <thead>\n",
       "    <tr style=\"text-align: right;\">\n",
       "      <th></th>\n",
       "      <th>producto</th>\n",
       "      <th>fecha_primera_venta</th>\n",
       "      <th>fecha_ultima_venta</th>\n",
       "      <th>freq_venta</th>\n",
       "    </tr>\n",
       "  </thead>\n",
       "  <tbody>\n",
       "    <tr>\n",
       "      <th>58</th>\n",
       "      <td>7</td>\n",
       "      <td>2015-06-29</td>\n",
       "      <td>2019-06-21</td>\n",
       "      <td>1133</td>\n",
       "    </tr>\n",
       "    <tr>\n",
       "      <th>34</th>\n",
       "      <td>44</td>\n",
       "      <td>2015-06-29</td>\n",
       "      <td>2019-09-13</td>\n",
       "      <td>1226</td>\n",
       "    </tr>\n",
       "    <tr>\n",
       "      <th>44</th>\n",
       "      <td>54</td>\n",
       "      <td>2015-06-29</td>\n",
       "      <td>2019-10-02</td>\n",
       "      <td>1156</td>\n",
       "    </tr>\n",
       "    <tr>\n",
       "      <th>60</th>\n",
       "      <td>71</td>\n",
       "      <td>2015-06-29</td>\n",
       "      <td>2019-10-03</td>\n",
       "      <td>1165</td>\n",
       "    </tr>\n",
       "    <tr>\n",
       "      <th>65</th>\n",
       "      <td>76</td>\n",
       "      <td>2016-11-02</td>\n",
       "      <td>2019-10-16</td>\n",
       "      <td>888</td>\n",
       "    </tr>\n",
       "    <tr>\n",
       "      <th>71</th>\n",
       "      <td>82</td>\n",
       "      <td>2015-06-29</td>\n",
       "      <td>2019-11-29</td>\n",
       "      <td>1187</td>\n",
       "    </tr>\n",
       "    <tr>\n",
       "      <th>25</th>\n",
       "      <td>34</td>\n",
       "      <td>2015-06-30</td>\n",
       "      <td>2019-12-17</td>\n",
       "      <td>927</td>\n",
       "    </tr>\n",
       "  </tbody>\n",
       "</table>\n",
       "</div>"
      ],
      "text/plain": [
       "    producto fecha_primera_venta fecha_ultima_venta  freq_venta\n",
       "58         7          2015-06-29         2019-06-21        1133\n",
       "34        44          2015-06-29         2019-09-13        1226\n",
       "44        54          2015-06-29         2019-10-02        1156\n",
       "60        71          2015-06-29         2019-10-03        1165\n",
       "65        76          2016-11-02         2019-10-16         888\n",
       "71        82          2015-06-29         2019-11-29        1187\n",
       "25        34          2015-06-30         2019-12-17         927"
      ]
     },
     "execution_count": 42,
     "metadata": {},
     "output_type": "execute_result"
    }
   ],
   "source": [
    "ventas_byprod.loc[ventas_byprod.fecha_ultima_venta < '2020-01-01', ['producto', 'fecha_primera_venta', 'fecha_ultima_venta']].sort_values(\"fecha_ultima_venta\")"
   ]
  },
  {
   "cell_type": "markdown",
   "metadata": {},
   "source": [
    "# Datos perdidos por fecha"
   ]
  },
  {
   "cell_type": "code",
   "execution_count": 53,
   "metadata": {},
   "outputs": [
    {
     "name": "stdout",
     "output_type": "stream",
     "text": [
      "   Missings en udsventa sin domingos y festivos para 246 fechas de 246 totales.\n",
      "Dias sin ningun dato (de los no festivos):\n"
     ]
    },
    {
     "data": {
      "text/html": [
       "<div>\n",
       "<style scoped>\n",
       "    .dataframe tbody tr th:only-of-type {\n",
       "        vertical-align: middle;\n",
       "    }\n",
       "\n",
       "    .dataframe tbody tr th {\n",
       "        vertical-align: top;\n",
       "    }\n",
       "\n",
       "    .dataframe thead th {\n",
       "        text-align: right;\n",
       "    }\n",
       "</style>\n",
       "<table border=\"1\" class=\"dataframe\">\n",
       "  <thead>\n",
       "    <tr style=\"text-align: right;\">\n",
       "      <th></th>\n",
       "      <th>fecha</th>\n",
       "      <th>num_missings</th>\n",
       "    </tr>\n",
       "  </thead>\n",
       "  <tbody>\n",
       "    <tr>\n",
       "      <th>48</th>\n",
       "      <td>2019-07-31</td>\n",
       "      <td>82</td>\n",
       "    </tr>\n",
       "    <tr>\n",
       "      <th>49</th>\n",
       "      <td>2019-08-01</td>\n",
       "      <td>82</td>\n",
       "    </tr>\n",
       "    <tr>\n",
       "      <th>50</th>\n",
       "      <td>2019-08-02</td>\n",
       "      <td>82</td>\n",
       "    </tr>\n",
       "    <tr>\n",
       "      <th>51</th>\n",
       "      <td>2019-08-03</td>\n",
       "      <td>82</td>\n",
       "    </tr>\n",
       "    <tr>\n",
       "      <th>70</th>\n",
       "      <td>2019-08-27</td>\n",
       "      <td>82</td>\n",
       "    </tr>\n",
       "    <tr>\n",
       "      <th>242</th>\n",
       "      <td>2020-03-23</td>\n",
       "      <td>82</td>\n",
       "    </tr>\n",
       "    <tr>\n",
       "      <th>243</th>\n",
       "      <td>2020-03-24</td>\n",
       "      <td>82</td>\n",
       "    </tr>\n",
       "    <tr>\n",
       "      <th>244</th>\n",
       "      <td>2020-03-25</td>\n",
       "      <td>82</td>\n",
       "    </tr>\n",
       "    <tr>\n",
       "      <th>245</th>\n",
       "      <td>2020-03-26</td>\n",
       "      <td>82</td>\n",
       "    </tr>\n",
       "  </tbody>\n",
       "</table>\n",
       "</div>"
      ],
      "text/plain": [
       "          fecha  num_missings\n",
       "48   2019-07-31            82\n",
       "49   2019-08-01            82\n",
       "50   2019-08-02            82\n",
       "51   2019-08-03            82\n",
       "70   2019-08-27            82\n",
       "242  2020-03-23            82\n",
       "243  2020-03-24            82\n",
       "244  2020-03-25            82\n",
       "245  2020-03-26            82"
      ]
     },
     "execution_count": 53,
     "metadata": {},
     "output_type": "execute_result"
    }
   ],
   "source": [
    "print(\"   Missings en udsventa sin domingos y festivos para {} fechas de {} totales.\"\\\n",
    "                .format(bydate.loc[bydate.num_missings != 0].shape[0], bydate.shape[0]))\n",
    "print(\"Dias sin ningun dato (de los no festivos):\")\n",
    "bydate.loc[bydate.num_missings == 82].sort_values(\"fecha\")"
   ]
  },
  {
   "cell_type": "markdown",
   "metadata": {},
   "source": [
    "#### Los missings del 23 al 26 de marzo de 2020 son missings reales, los de verano es posible que no haya ventas."
   ]
  },
  {
   "cell_type": "code",
   "execution_count": 57,
   "metadata": {},
   "outputs": [
    {
     "name": "stdout",
     "output_type": "stream",
     "text": [
      "   5 fechas con más missings (sin que sean todos):\n"
     ]
    },
    {
     "data": {
      "text/html": [
       "<div>\n",
       "<style scoped>\n",
       "    .dataframe tbody tr th:only-of-type {\n",
       "        vertical-align: middle;\n",
       "    }\n",
       "\n",
       "    .dataframe tbody tr th {\n",
       "        vertical-align: top;\n",
       "    }\n",
       "\n",
       "    .dataframe thead th {\n",
       "        text-align: right;\n",
       "    }\n",
       "</style>\n",
       "<table border=\"1\" class=\"dataframe\">\n",
       "  <thead>\n",
       "    <tr style=\"text-align: right;\">\n",
       "      <th></th>\n",
       "      <th>fecha</th>\n",
       "      <th>num_missings</th>\n",
       "    </tr>\n",
       "  </thead>\n",
       "  <tbody>\n",
       "    <tr>\n",
       "      <th>69</th>\n",
       "      <td>2019-08-26</td>\n",
       "      <td>78</td>\n",
       "    </tr>\n",
       "    <tr>\n",
       "      <th>115</th>\n",
       "      <td>2019-10-19</td>\n",
       "      <td>50</td>\n",
       "    </tr>\n",
       "    <tr>\n",
       "      <th>52</th>\n",
       "      <td>2019-08-05</td>\n",
       "      <td>40</td>\n",
       "    </tr>\n",
       "    <tr>\n",
       "      <th>71</th>\n",
       "      <td>2019-08-28</td>\n",
       "      <td>40</td>\n",
       "    </tr>\n",
       "    <tr>\n",
       "      <th>217</th>\n",
       "      <td>2020-02-22</td>\n",
       "      <td>31</td>\n",
       "    </tr>\n",
       "  </tbody>\n",
       "</table>\n",
       "</div>"
      ],
      "text/plain": [
       "          fecha  num_missings\n",
       "69   2019-08-26            78\n",
       "115  2019-10-19            50\n",
       "52   2019-08-05            40\n",
       "71   2019-08-28            40\n",
       "217  2020-02-22            31"
      ]
     },
     "execution_count": 57,
     "metadata": {},
     "output_type": "execute_result"
    }
   ],
   "source": [
    "print(\"   5 fechas con más missings (sin que sean todos):\")\n",
    "bydate.loc[bydate.num_missings != 82].head()"
   ]
  },
  {
   "cell_type": "code",
   "execution_count": 61,
   "metadata": {},
   "outputs": [
    {
     "data": {
      "text/plain": [
       "<matplotlib.axes._subplots.AxesSubplot at 0x7f4554232c10>"
      ]
     },
     "execution_count": 61,
     "metadata": {},
     "output_type": "execute_result"
    },
    {
     "data": {
      "image/png": "[encoded data removed]",
      "text/plain": [
       "<Figure size 1440x720 with 1 Axes>"
      ]
     },
     "metadata": {
      "needs_background": "light"
     },
     "output_type": "display_data"
    }
   ],
   "source": [
    "bydate.sort_values(\"fecha\").set_index(\"fecha\").plot(figsize=(20,10))"
   ]
  },
  {
   "cell_type": "markdown",
   "metadata": {},
   "source": [
    "# Missings por dia de la semana (contando festivos)"
   ]
  },
  {
   "cell_type": "code",
   "execution_count": 69,
   "metadata": {},
   "outputs": [
    {
     "data": {
      "text/html": [
       "<div>\n",
       "<style scoped>\n",
       "    .dataframe tbody tr th:only-of-type {\n",
       "        vertical-align: middle;\n",
       "    }\n",
       "\n",
       "    .dataframe tbody tr th {\n",
       "        vertical-align: top;\n",
       "    }\n",
       "\n",
       "    .dataframe thead th {\n",
       "        text-align: right;\n",
       "    }\n",
       "</style>\n",
       "<table border=\"1\" class=\"dataframe\">\n",
       "  <thead>\n",
       "    <tr style=\"text-align: right;\">\n",
       "      <th></th>\n",
       "      <th>weekday</th>\n",
       "      <th>num_missings</th>\n",
       "    </tr>\n",
       "  </thead>\n",
       "  <tbody>\n",
       "    <tr>\n",
       "      <th>0</th>\n",
       "      <td>0</td>\n",
       "      <td>616</td>\n",
       "    </tr>\n",
       "    <tr>\n",
       "      <th>1</th>\n",
       "      <td>1</td>\n",
       "      <td>491</td>\n",
       "    </tr>\n",
       "    <tr>\n",
       "      <th>2</th>\n",
       "      <td>2</td>\n",
       "      <td>636</td>\n",
       "    </tr>\n",
       "    <tr>\n",
       "      <th>3</th>\n",
       "      <td>3</td>\n",
       "      <td>559</td>\n",
       "    </tr>\n",
       "    <tr>\n",
       "      <th>4</th>\n",
       "      <td>4</td>\n",
       "      <td>457</td>\n",
       "    </tr>\n",
       "    <tr>\n",
       "      <th>5</th>\n",
       "      <td>5</td>\n",
       "      <td>1246</td>\n",
       "    </tr>\n",
       "    <tr>\n",
       "      <th>6</th>\n",
       "      <td>6</td>\n",
       "      <td>3369</td>\n",
       "    </tr>\n",
       "  </tbody>\n",
       "</table>\n",
       "</div>"
      ],
      "text/plain": [
       "   weekday  num_missings\n",
       "0        0           616\n",
       "1        1           491\n",
       "2        2           636\n",
       "3        3           559\n",
       "4        4           457\n",
       "5        5          1246\n",
       "6        6          3369"
      ]
     },
     "execution_count": 69,
     "metadata": {},
     "output_type": "execute_result"
    }
   ],
   "source": [
    "byday.sort_values(\"weekday\")"
   ]
  },
  {
   "cell_type": "code",
   "execution_count": null,
   "metadata": {},
   "outputs": [],
   "source": []
  }
 ],
 "metadata": {
  "kernelspec": {
   "display_name": "Python 3",
   "language": "python",
   "name": "python3"
  },
  "language_info": {
   "codemirror_mode": {
    "name": "ipython",
    "version": 3
   },
   "file_extension": ".py",
   "mimetype": "text/x-python",
   "name": "python",
   "nbconvert_exporter": "python",
   "pygments_lexer": "ipython3",
   "version": "3.8.1"
  }
 },
 "nbformat": 4,
 "nbformat_minor": 4
}
