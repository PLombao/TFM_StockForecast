{
 "cells": [
  {
   "cell_type": "markdown",
   "metadata": {},
   "source": [
    "<div style=\"background-color: #EDF7FF; border-color: #7C9DBF; border-left: 5px solid #7C9DBF; padding: 0.5em;\">\n",
    " \n",
    "\n",
    "<strong>Objectives:</strong>\n",
    "+ Estudiar los missings en la variable uds venta\n",
    "+ Discernir ceros (no venta) de verdaderos missings (datos faltantes)\n",
    "    \n",
    "    \n",
    "<strong>Conclusions:</strong>\n",
    "+ Hay datos faltantes correspondientes a los días 23, 24, 25 y 26\n",
    "+ El resto no nos queda otra que considerarlos venta 0.\n",
    "+ Hay 7 de 50 festivos con ventas, de momento se decide pasar esas ventas al día anterior.\n",
    "\n",
    "   \n",
    "</div>"
   ]
  },
  {
   "cell_type": "code",
   "execution_count": 1,
   "metadata": {},
   "outputs": [],
   "source": [
    "import os, sys\n",
    "\n",
    "def get_root_path(search_word):\n",
    "    \"\"\" Búsqueda hacia atrás de un directorio con nombre search_word. \"\"\"\n",
    "    cwd = os.getcwd()\n",
    "    while str(os.getcwd()).split('/')[-1] != search_word:\n",
    "        os.chdir(\"..\")\n",
    "        cwd = os.getcwd()\n",
    "    return cwd\n",
    "\n",
    "ROOT_DIR = get_root_path('TFM_StockForecast')\n",
    "\n",
    "sys.path.insert(0, ROOT_DIR) # Poner en el primer lugar del PATH (evitar paquetes con mismos nombres en otros directorios)"
   ]
  },
  {
   "cell_type": "code",
   "execution_count": 2,
   "metadata": {},
   "outputs": [],
   "source": [
    "import pandas as pd"
   ]
  },
  {
   "cell_type": "code",
   "execution_count": 4,
   "metadata": {},
   "outputs": [
    {
     "data": {
      "text/html": [
       "<div>\n",
       "<style scoped>\n",
       "    .dataframe tbody tr th:only-of-type {\n",
       "        vertical-align: middle;\n",
       "    }\n",
       "\n",
       "    .dataframe tbody tr th {\n",
       "        vertical-align: top;\n",
       "    }\n",
       "\n",
       "    .dataframe thead th {\n",
       "        text-align: right;\n",
       "    }\n",
       "</style>\n",
       "<table border=\"1\" class=\"dataframe\">\n",
       "  <thead>\n",
       "    <tr style=\"text-align: right;\">\n",
       "      <th></th>\n",
       "      <th>fecha</th>\n",
       "      <th>producto</th>\n",
       "      <th>udsstock</th>\n",
       "      <th>udsventa</th>\n",
       "      <th>udsprevisionempresa</th>\n",
       "      <th>promo</th>\n",
       "      <th>festivo</th>\n",
       "      <th>weekday</th>\n",
       "    </tr>\n",
       "  </thead>\n",
       "  <tbody>\n",
       "    <tr>\n",
       "      <th>0</th>\n",
       "      <td>2019-06-05</td>\n",
       "      <td>1</td>\n",
       "      <td>18275.0</td>\n",
       "      <td>2833.0</td>\n",
       "      <td>102304.0</td>\n",
       "      <td>0.0</td>\n",
       "      <td>0.0</td>\n",
       "      <td>2</td>\n",
       "    </tr>\n",
       "    <tr>\n",
       "      <th>1</th>\n",
       "      <td>2019-06-05</td>\n",
       "      <td>10</td>\n",
       "      <td>2267.0</td>\n",
       "      <td>1874.0</td>\n",
       "      <td>36888.0</td>\n",
       "      <td>1.0</td>\n",
       "      <td>0.0</td>\n",
       "      <td>2</td>\n",
       "    </tr>\n",
       "    <tr>\n",
       "      <th>2</th>\n",
       "      <td>2019-06-05</td>\n",
       "      <td>11</td>\n",
       "      <td>2506.0</td>\n",
       "      <td>2755.0</td>\n",
       "      <td>31078.0</td>\n",
       "      <td>0.0</td>\n",
       "      <td>0.0</td>\n",
       "      <td>2</td>\n",
       "    </tr>\n",
       "    <tr>\n",
       "      <th>3</th>\n",
       "      <td>2019-06-05</td>\n",
       "      <td>12</td>\n",
       "      <td>1279.0</td>\n",
       "      <td>1161.0</td>\n",
       "      <td>33661.0</td>\n",
       "      <td>0.0</td>\n",
       "      <td>0.0</td>\n",
       "      <td>2</td>\n",
       "    </tr>\n",
       "    <tr>\n",
       "      <th>4</th>\n",
       "      <td>2019-06-05</td>\n",
       "      <td>13</td>\n",
       "      <td>2493.0</td>\n",
       "      <td>1603.0</td>\n",
       "      <td>32119.0</td>\n",
       "      <td>1.0</td>\n",
       "      <td>0.0</td>\n",
       "      <td>2</td>\n",
       "    </tr>\n",
       "  </tbody>\n",
       "</table>\n",
       "</div>"
      ],
      "text/plain": [
       "        fecha  producto  udsstock  udsventa  udsprevisionempresa  promo  \\\n",
       "0  2019-06-05         1   18275.0    2833.0             102304.0    0.0   \n",
       "1  2019-06-05        10    2267.0    1874.0              36888.0    1.0   \n",
       "2  2019-06-05        11    2506.0    2755.0              31078.0    0.0   \n",
       "3  2019-06-05        12    1279.0    1161.0              33661.0    0.0   \n",
       "4  2019-06-05        13    2493.0    1603.0              32119.0    1.0   \n",
       "\n",
       "   festivo  weekday  \n",
       "0      0.0        2  \n",
       "1      0.0        2  \n",
       "2      0.0        2  \n",
       "3      0.0        2  \n",
       "4      0.0        2  "
      ]
     },
     "execution_count": 4,
     "metadata": {},
     "output_type": "execute_result"
    }
   ],
   "source": [
    "# PRINT EDA FOR STOCK DATA\n",
    "df = pd.read_csv(\"data/clean/stock_all.csv\")\n",
    "\n",
    "variable = \"udsprevisionempresa\"\n",
    "\n",
    "df.head()"
   ]
  },
  {
   "cell_type": "code",
   "execution_count": 5,
   "metadata": {},
   "outputs": [],
   "source": [
    "def filter_festivos(indf, only):\n",
    "    df = indf.copy()\n",
    "    if only:\n",
    "        df = df.loc[(df.festivo == 1) | (df.weekday == 6)]\n",
    "    else: \n",
    "        df = df.loc[(df.festivo != 1) & (df.weekday != 6)]\n",
    "    return df\n",
    "def perc(df1, df2):\n",
    "    return round(100* df1.shape[0]/df2.shape[0])"
   ]
  },
  {
   "cell_type": "code",
   "execution_count": 6,
   "metadata": {},
   "outputs": [],
   "source": [
    "# Declarar todos los df de estudio:\n",
    "\n",
    "# ventas_byprod\n",
    "ventas_byprod = pd.read_csv(\"data/clean/ventas_byprod.csv\")\n",
    "\n",
    "\n",
    "# df con registros con valores, con 0s y missings\n",
    "exist = df.loc[~df[variable].isna()]\n",
    "miss = df.loc[df[variable].isna()]\n",
    "zeros = df.loc[df[variable] == 0]\n",
    "\n",
    "# Missings sin contar las vacaciones\n",
    "miss_noholiday = filter_festivos(miss, False)\n",
    "\n",
    "# Missings por producto\n",
    "byprod = miss_noholiday.groupby(\"producto\")['fecha'].count().reset_index().sort_values(\"fecha\", ascending=False)\n",
    "byprod.columns = [\"producto\", \"num_missings\"]\n",
    "\n",
    "# Missings por fecha\n",
    "bydate = miss_noholiday.groupby(\"fecha\")['producto'].count().reset_index().sort_values(\"producto\", ascending=False)\n",
    "bydate.columns = [\"fecha\", \"num_missings\"]\n",
    "\n",
    "# Missings por dia de la semana\n",
    "byday = miss.groupby(\"weekday\")['producto'].count().reset_index().sort_values(\"producto\", ascending=False)\n",
    "byday.columns = [\"weekday\", \"num_missings\"]"
   ]
  },
  {
   "cell_type": "markdown",
   "metadata": {},
   "source": [
    "# Analisis previo"
   ]
  },
  {
   "cell_type": "code",
   "execution_count": 7,
   "metadata": {},
   "outputs": [
    {
     "name": "stdout",
     "output_type": "stream",
     "text": [
      "Registros totales en dataset: 24272 \n",
      "Productos totales: 82 \n",
      "Días totales: 296 \n",
      "Dias totales de vacaciones: 50 \n"
     ]
    }
   ],
   "source": [
    "print(\"Registros totales en dataset: {} \".format(df.shape[0]))\n",
    "print(\"Productos totales: {} \".format(len(df.producto.unique())))\n",
    "print(\"Días totales: {} \".format(len(df.fecha.unique())))\n",
    "print(\"Dias totales de vacaciones: {} \".format(len(filter_festivos(df, True).fecha.unique())))"
   ]
  },
  {
   "cell_type": "markdown",
   "metadata": {},
   "source": [
    "# Datos existentes en dias de vacaciones (festivos y domingos)"
   ]
  },
  {
   "cell_type": "code",
   "execution_count": 8,
   "metadata": {},
   "outputs": [
    {
     "name": "stdout",
     "output_type": "stream",
     "text": [
      "  Valores existentes en dias de vacaciones: 1064\n",
      "  Dias de vacaciones con datos: 43\n"
     ]
    },
    {
     "data": {
      "text/plain": [
       "array(['2019-06-09', '2019-06-16', '2019-06-23', '2019-06-30',\n",
       "       '2019-07-07', '2019-07-14', '2019-07-28', '2019-08-11',\n",
       "       '2019-08-15', '2019-08-18', '2019-08-25', '2019-09-08',\n",
       "       '2019-09-15', '2019-09-22', '2019-09-29', '2019-10-06',\n",
       "       '2019-10-12', '2019-10-13', '2019-10-20', '2019-10-27',\n",
       "       '2019-11-01', '2019-11-03', '2019-11-10', '2019-11-17',\n",
       "       '2019-11-24', '2019-12-01', '2019-12-06', '2019-12-08',\n",
       "       '2019-12-09', '2019-12-15', '2019-12-22', '2019-12-25',\n",
       "       '2019-12-29', '2020-01-01', '2020-01-05', '2020-01-06',\n",
       "       '2020-01-12', '2020-02-02', '2020-02-09', '2020-02-16',\n",
       "       '2020-02-23', '2020-03-01', '2020-03-08'], dtype=object)"
      ]
     },
     "execution_count": 8,
     "metadata": {},
     "output_type": "execute_result"
    }
   ],
   "source": [
    "print(\"  Valores existentes en dias de vacaciones: {}\"\\\n",
    "                .format(filter_festivos(exist, True).shape[0]))\n",
    "\n",
    "print(\"  Dias de vacaciones con datos: {}\"\\\n",
    "                .format(len(filter_festivos(exist, True).fecha.unique())))\n",
    "\n",
    "filter_festivos(exist, True).fecha.unique()"
   ]
  },
  {
   "cell_type": "code",
   "execution_count": null,
   "metadata": {},
   "outputs": [],
   "source": []
  },
  {
   "cell_type": "code",
   "execution_count": 9,
   "metadata": {},
   "outputs": [
    {
     "name": "stdout",
     "output_type": "stream",
     "text": [
      "Dias festivos con datos:\n"
     ]
    },
    {
     "data": {
      "text/plain": [
       "fecha\n",
       "2019-06-09    13\n",
       "2019-06-16     7\n",
       "2019-06-23     8\n",
       "2019-06-30     7\n",
       "2019-07-07     6\n",
       "2019-07-14     5\n",
       "2019-07-28    10\n",
       "2019-08-11     9\n",
       "2019-08-15    78\n",
       "2019-08-18     9\n",
       "2019-08-25     9\n",
       "2019-09-08    11\n",
       "2019-09-15    10\n",
       "2019-09-22    22\n",
       "2019-09-29    20\n",
       "2019-10-06    22\n",
       "2019-10-12    42\n",
       "2019-10-13    25\n",
       "2019-10-20    31\n",
       "2019-10-27    20\n",
       "2019-11-01    79\n",
       "2019-11-03    20\n",
       "2019-11-10    19\n",
       "2019-11-17    12\n",
       "2019-11-24     6\n",
       "2019-12-01    14\n",
       "2019-12-06    77\n",
       "2019-12-08    14\n",
       "2019-12-09    77\n",
       "2019-12-15    16\n",
       "2019-12-22    16\n",
       "2019-12-25    77\n",
       "2019-12-29    16\n",
       "2020-01-01    77\n",
       "2020-01-05    31\n",
       "2020-01-06    78\n",
       "2020-01-12    28\n",
       "2020-02-02     3\n",
       "2020-02-09     8\n",
       "2020-02-16     8\n",
       "2020-02-23     8\n",
       "2020-03-01     8\n",
       "2020-03-08     8\n",
       "Name: producto, dtype: int64"
      ]
     },
     "execution_count": 9,
     "metadata": {},
     "output_type": "execute_result"
    }
   ],
   "source": [
    "print(\"Dias festivos con datos:\")\n",
    "filter_festivos(exist, True).groupby(\"fecha\")['producto'].count()"
   ]
  },
  {
   "cell_type": "markdown",
   "metadata": {},
   "source": [
    "¿Porqué tienen datos estos festivos?"
   ]
  },
  {
   "cell_type": "markdown",
   "metadata": {},
   "source": [
    "# Datos perdidos en el total y sin contar las vacaciones"
   ]
  },
  {
   "cell_type": "code",
   "execution_count": 10,
   "metadata": {},
   "outputs": [
    {
     "name": "stdout",
     "output_type": "stream",
     "text": [
      "  Valores missings in udsventa:                                                              6430 (26%)\n",
      "  Valores con ceros in udsventa:                                                             268 (1%)\n",
      "  Valores missings in udsventa sin domingos y festivos:                                      3394 (14%)\n",
      "  Valores missings in udsventa sin domingos y festivos y con datos anteriores al 2020-03-23: 3352 (14%)\n"
     ]
    }
   ],
   "source": [
    "print(\"  Valores missings in udsventa:                                                              {} ({}%)\"\\\n",
    "                .format(miss.shape[0], perc(miss, df)))\n",
    "\n",
    "print(\"  Valores con ceros in udsventa:                                                             {} ({}%)\"\\\n",
    "                .format(zeros.shape[0], perc(zeros, df)))\n",
    "\n",
    "print(\"  Valores missings in udsventa sin domingos y festivos:                                      {} ({}%)\"\\\n",
    "                .format(miss_noholiday.shape[0], perc(miss_noholiday, df)))\n",
    "\n",
    "print(\"  Valores missings in udsventa sin domingos y festivos y con datos anteriores al 2020-03-23: {} ({}%)\"\\\n",
    "                .format(miss_noholiday.loc[miss_noholiday.fecha < '2020-03-23'].shape[0], perc(miss_noholiday, df)))"
   ]
  },
  {
   "cell_type": "code",
   "execution_count": 11,
   "metadata": {},
   "outputs": [
    {
     "data": {
      "text/html": [
       "<div>\n",
       "<style scoped>\n",
       "    .dataframe tbody tr th:only-of-type {\n",
       "        vertical-align: middle;\n",
       "    }\n",
       "\n",
       "    .dataframe tbody tr th {\n",
       "        vertical-align: top;\n",
       "    }\n",
       "\n",
       "    .dataframe thead th {\n",
       "        text-align: right;\n",
       "    }\n",
       "</style>\n",
       "<table border=\"1\" class=\"dataframe\">\n",
       "  <thead>\n",
       "    <tr style=\"text-align: right;\">\n",
       "      <th></th>\n",
       "      <th>fecha</th>\n",
       "      <th>producto</th>\n",
       "      <th>udsstock</th>\n",
       "      <th>udsventa</th>\n",
       "      <th>udsprevisionempresa</th>\n",
       "      <th>promo</th>\n",
       "      <th>festivo</th>\n",
       "      <th>weekday</th>\n",
       "    </tr>\n",
       "  </thead>\n",
       "  <tbody>\n",
       "    <tr>\n",
       "      <th>313</th>\n",
       "      <td>2019-06-08</td>\n",
       "      <td>80</td>\n",
       "      <td>NaN</td>\n",
       "      <td>NaN</td>\n",
       "      <td>0.0</td>\n",
       "      <td>0.0</td>\n",
       "      <td>0.0</td>\n",
       "      <td>5</td>\n",
       "    </tr>\n",
       "    <tr>\n",
       "      <th>348</th>\n",
       "      <td>2019-06-09</td>\n",
       "      <td>3</td>\n",
       "      <td>NaN</td>\n",
       "      <td>NaN</td>\n",
       "      <td>0.0</td>\n",
       "      <td>1.0</td>\n",
       "      <td>0.0</td>\n",
       "      <td>6</td>\n",
       "    </tr>\n",
       "    <tr>\n",
       "      <th>795</th>\n",
       "      <td>2019-06-14</td>\n",
       "      <td>70</td>\n",
       "      <td>NaN</td>\n",
       "      <td>NaN</td>\n",
       "      <td>0.0</td>\n",
       "      <td>0.0</td>\n",
       "      <td>0.0</td>\n",
       "      <td>4</td>\n",
       "    </tr>\n",
       "    <tr>\n",
       "      <th>877</th>\n",
       "      <td>2019-06-15</td>\n",
       "      <td>70</td>\n",
       "      <td>NaN</td>\n",
       "      <td>NaN</td>\n",
       "      <td>0.0</td>\n",
       "      <td>0.0</td>\n",
       "      <td>0.0</td>\n",
       "      <td>5</td>\n",
       "    </tr>\n",
       "    <tr>\n",
       "      <th>887</th>\n",
       "      <td>2019-06-15</td>\n",
       "      <td>80</td>\n",
       "      <td>NaN</td>\n",
       "      <td>1476.0</td>\n",
       "      <td>0.0</td>\n",
       "      <td>0.0</td>\n",
       "      <td>0.0</td>\n",
       "      <td>5</td>\n",
       "    </tr>\n",
       "    <tr>\n",
       "      <th>...</th>\n",
       "      <td>...</td>\n",
       "      <td>...</td>\n",
       "      <td>...</td>\n",
       "      <td>...</td>\n",
       "      <td>...</td>\n",
       "      <td>...</td>\n",
       "      <td>...</td>\n",
       "      <td>...</td>\n",
       "    </tr>\n",
       "    <tr>\n",
       "      <th>23963</th>\n",
       "      <td>2020-03-23</td>\n",
       "      <td>29</td>\n",
       "      <td>NaN</td>\n",
       "      <td>NaN</td>\n",
       "      <td>0.0</td>\n",
       "      <td>0.0</td>\n",
       "      <td>0.0</td>\n",
       "      <td>0</td>\n",
       "    </tr>\n",
       "    <tr>\n",
       "      <th>24021</th>\n",
       "      <td>2020-03-23</td>\n",
       "      <td>95</td>\n",
       "      <td>NaN</td>\n",
       "      <td>NaN</td>\n",
       "      <td>0.0</td>\n",
       "      <td>0.0</td>\n",
       "      <td>0.0</td>\n",
       "      <td>0</td>\n",
       "    </tr>\n",
       "    <tr>\n",
       "      <th>24045</th>\n",
       "      <td>2020-03-24</td>\n",
       "      <td>29</td>\n",
       "      <td>NaN</td>\n",
       "      <td>NaN</td>\n",
       "      <td>0.0</td>\n",
       "      <td>0.0</td>\n",
       "      <td>0.0</td>\n",
       "      <td>1</td>\n",
       "    </tr>\n",
       "    <tr>\n",
       "      <th>24127</th>\n",
       "      <td>2020-03-25</td>\n",
       "      <td>29</td>\n",
       "      <td>NaN</td>\n",
       "      <td>NaN</td>\n",
       "      <td>0.0</td>\n",
       "      <td>0.0</td>\n",
       "      <td>0.0</td>\n",
       "      <td>2</td>\n",
       "    </tr>\n",
       "    <tr>\n",
       "      <th>24209</th>\n",
       "      <td>2020-03-26</td>\n",
       "      <td>29</td>\n",
       "      <td>NaN</td>\n",
       "      <td>NaN</td>\n",
       "      <td>0.0</td>\n",
       "      <td>0.0</td>\n",
       "      <td>0.0</td>\n",
       "      <td>3</td>\n",
       "    </tr>\n",
       "  </tbody>\n",
       "</table>\n",
       "<p>268 rows × 8 columns</p>\n",
       "</div>"
      ],
      "text/plain": [
       "            fecha  producto  udsstock  udsventa  udsprevisionempresa  promo  \\\n",
       "313    2019-06-08        80       NaN       NaN                  0.0    0.0   \n",
       "348    2019-06-09         3       NaN       NaN                  0.0    1.0   \n",
       "795    2019-06-14        70       NaN       NaN                  0.0    0.0   \n",
       "877    2019-06-15        70       NaN       NaN                  0.0    0.0   \n",
       "887    2019-06-15        80       NaN    1476.0                  0.0    0.0   \n",
       "...           ...       ...       ...       ...                  ...    ...   \n",
       "23963  2020-03-23        29       NaN       NaN                  0.0    0.0   \n",
       "24021  2020-03-23        95       NaN       NaN                  0.0    0.0   \n",
       "24045  2020-03-24        29       NaN       NaN                  0.0    0.0   \n",
       "24127  2020-03-25        29       NaN       NaN                  0.0    0.0   \n",
       "24209  2020-03-26        29       NaN       NaN                  0.0    0.0   \n",
       "\n",
       "       festivo  weekday  \n",
       "313        0.0        5  \n",
       "348        0.0        6  \n",
       "795        0.0        4  \n",
       "877        0.0        5  \n",
       "887        0.0        5  \n",
       "...        ...      ...  \n",
       "23963      0.0        0  \n",
       "24021      0.0        0  \n",
       "24045      0.0        1  \n",
       "24127      0.0        2  \n",
       "24209      0.0        3  \n",
       "\n",
       "[268 rows x 8 columns]"
      ]
     },
     "execution_count": 11,
     "metadata": {},
     "output_type": "execute_result"
    }
   ],
   "source": [
    "zeros"
   ]
  },
  {
   "cell_type": "code",
   "execution_count": null,
   "metadata": {},
   "outputs": [],
   "source": []
  },
  {
   "cell_type": "markdown",
   "metadata": {},
   "source": [
    "# Datos perdidos por producto"
   ]
  },
  {
   "cell_type": "code",
   "execution_count": 12,
   "metadata": {},
   "outputs": [
    {
     "name": "stdout",
     "output_type": "stream",
     "text": [
      "   Missings en udsventa sin domingos y festivos para 82 productos de 82 totales.\n",
      "   5 productos con más missings:\n"
     ]
    },
    {
     "data": {
      "text/html": [
       "<div>\n",
       "<style scoped>\n",
       "    .dataframe tbody tr th:only-of-type {\n",
       "        vertical-align: middle;\n",
       "    }\n",
       "\n",
       "    .dataframe tbody tr th {\n",
       "        vertical-align: top;\n",
       "    }\n",
       "\n",
       "    .dataframe thead th {\n",
       "        text-align: right;\n",
       "    }\n",
       "</style>\n",
       "<table border=\"1\" class=\"dataframe\">\n",
       "  <thead>\n",
       "    <tr style=\"text-align: right;\">\n",
       "      <th></th>\n",
       "      <th>producto</th>\n",
       "      <th>num_missings</th>\n",
       "    </tr>\n",
       "  </thead>\n",
       "  <tbody>\n",
       "    <tr>\n",
       "      <th>5</th>\n",
       "      <td>7</td>\n",
       "      <td>210</td>\n",
       "    </tr>\n",
       "    <tr>\n",
       "      <th>58</th>\n",
       "      <td>70</td>\n",
       "      <td>191</td>\n",
       "    </tr>\n",
       "    <tr>\n",
       "      <th>35</th>\n",
       "      <td>44</td>\n",
       "      <td>152</td>\n",
       "    </tr>\n",
       "    <tr>\n",
       "      <th>77</th>\n",
       "      <td>95</td>\n",
       "      <td>127</td>\n",
       "    </tr>\n",
       "    <tr>\n",
       "      <th>44</th>\n",
       "      <td>54</td>\n",
       "      <td>126</td>\n",
       "    </tr>\n",
       "  </tbody>\n",
       "</table>\n",
       "</div>"
      ],
      "text/plain": [
       "    producto  num_missings\n",
       "5          7           210\n",
       "58        70           191\n",
       "35        44           152\n",
       "77        95           127\n",
       "44        54           126"
      ]
     },
     "execution_count": 12,
     "metadata": {},
     "output_type": "execute_result"
    }
   ],
   "source": [
    "print(\"   Missings en udsventa sin domingos y festivos para {} productos de {} totales.\"\\\n",
    "                .format(byprod.loc[byprod.num_missings != 0].shape[0], byprod.shape[0]))\n",
    "print(\"   5 productos con más missings:\")\n",
    "byprod.head()"
   ]
  },
  {
   "cell_type": "code",
   "execution_count": 92,
   "metadata": {},
   "outputs": [
    {
     "data": {
      "text/plain": [
       "[7, 44, 82, 54, 71, 76]"
      ]
     },
     "execution_count": 92,
     "metadata": {},
     "output_type": "execute_result"
    }
   ],
   "source": [
    "list(ventas_byprod.loc[ventas_byprod.fecha_ultima_venta < '2020-01-01', ['producto', 'fecha_primera_venta', 'fecha_ultima_venta']]\\\n",
    ".sort_values(\"fecha_ultima_venta\").producto)"
   ]
  },
  {
   "cell_type": "code",
   "execution_count": 13,
   "metadata": {},
   "outputs": [
    {
     "data": {
      "text/html": [
       "<div>\n",
       "<style scoped>\n",
       "    .dataframe tbody tr th:only-of-type {\n",
       "        vertical-align: middle;\n",
       "    }\n",
       "\n",
       "    .dataframe tbody tr th {\n",
       "        vertical-align: top;\n",
       "    }\n",
       "\n",
       "    .dataframe thead th {\n",
       "        text-align: right;\n",
       "    }\n",
       "</style>\n",
       "<table border=\"1\" class=\"dataframe\">\n",
       "  <thead>\n",
       "    <tr style=\"text-align: right;\">\n",
       "      <th></th>\n",
       "      <th>producto</th>\n",
       "      <th>fecha_primera_venta</th>\n",
       "      <th>fecha_ultima_venta</th>\n",
       "    </tr>\n",
       "  </thead>\n",
       "  <tbody>\n",
       "    <tr>\n",
       "      <th>58</th>\n",
       "      <td>7</td>\n",
       "      <td>2015-06-29</td>\n",
       "      <td>2019-06-21</td>\n",
       "    </tr>\n",
       "    <tr>\n",
       "      <th>34</th>\n",
       "      <td>44</td>\n",
       "      <td>2015-06-29</td>\n",
       "      <td>2019-11-05</td>\n",
       "    </tr>\n",
       "    <tr>\n",
       "      <th>71</th>\n",
       "      <td>82</td>\n",
       "      <td>2015-06-29</td>\n",
       "      <td>2019-11-29</td>\n",
       "    </tr>\n",
       "    <tr>\n",
       "      <th>44</th>\n",
       "      <td>54</td>\n",
       "      <td>2015-06-29</td>\n",
       "      <td>2019-12-23</td>\n",
       "    </tr>\n",
       "    <tr>\n",
       "      <th>60</th>\n",
       "      <td>71</td>\n",
       "      <td>2015-06-29</td>\n",
       "      <td>2019-12-24</td>\n",
       "    </tr>\n",
       "    <tr>\n",
       "      <th>65</th>\n",
       "      <td>76</td>\n",
       "      <td>2016-11-02</td>\n",
       "      <td>2019-12-26</td>\n",
       "    </tr>\n",
       "  </tbody>\n",
       "</table>\n",
       "</div>"
      ],
      "text/plain": [
       "    producto fecha_primera_venta fecha_ultima_venta\n",
       "58         7          2015-06-29         2019-06-21\n",
       "34        44          2015-06-29         2019-11-05\n",
       "71        82          2015-06-29         2019-11-29\n",
       "44        54          2015-06-29         2019-12-23\n",
       "60        71          2015-06-29         2019-12-24\n",
       "65        76          2016-11-02         2019-12-26"
      ]
     },
     "execution_count": 13,
     "metadata": {},
     "output_type": "execute_result"
    }
   ],
   "source": [
    "ventas_byprod.loc[ventas_byprod.fecha_ultima_venta < '2020-01-01', ['producto', 'fecha_primera_venta', 'fecha_ultima_venta']].sort_values(\"fecha_ultima_venta\")"
   ]
  },
  {
   "cell_type": "markdown",
   "metadata": {},
   "source": [
    "# Datos perdidos por fecha"
   ]
  },
  {
   "cell_type": "code",
   "execution_count": 14,
   "metadata": {},
   "outputs": [
    {
     "name": "stdout",
     "output_type": "stream",
     "text": [
      "   Missings en udsventa sin domingos y festivos para 221 fechas de 221 totales.\n",
      "Dias sin ningun dato (de los no festivos):\n"
     ]
    },
    {
     "data": {
      "text/html": [
       "<div>\n",
       "<style scoped>\n",
       "    .dataframe tbody tr th:only-of-type {\n",
       "        vertical-align: middle;\n",
       "    }\n",
       "\n",
       "    .dataframe tbody tr th {\n",
       "        vertical-align: top;\n",
       "    }\n",
       "\n",
       "    .dataframe thead th {\n",
       "        text-align: right;\n",
       "    }\n",
       "</style>\n",
       "<table border=\"1\" class=\"dataframe\">\n",
       "  <thead>\n",
       "    <tr style=\"text-align: right;\">\n",
       "      <th></th>\n",
       "      <th>fecha</th>\n",
       "      <th>num_missings</th>\n",
       "    </tr>\n",
       "  </thead>\n",
       "  <tbody>\n",
       "    <tr>\n",
       "      <th>4</th>\n",
       "      <td>2019-07-03</td>\n",
       "      <td>82</td>\n",
       "    </tr>\n",
       "    <tr>\n",
       "      <th>14</th>\n",
       "      <td>2019-07-20</td>\n",
       "      <td>82</td>\n",
       "    </tr>\n",
       "    <tr>\n",
       "      <th>22</th>\n",
       "      <td>2019-07-30</td>\n",
       "      <td>82</td>\n",
       "    </tr>\n",
       "    <tr>\n",
       "      <th>23</th>\n",
       "      <td>2019-07-31</td>\n",
       "      <td>82</td>\n",
       "    </tr>\n",
       "    <tr>\n",
       "      <th>24</th>\n",
       "      <td>2019-08-01</td>\n",
       "      <td>82</td>\n",
       "    </tr>\n",
       "    <tr>\n",
       "      <th>25</th>\n",
       "      <td>2019-08-02</td>\n",
       "      <td>82</td>\n",
       "    </tr>\n",
       "    <tr>\n",
       "      <th>26</th>\n",
       "      <td>2019-08-03</td>\n",
       "      <td>82</td>\n",
       "    </tr>\n",
       "    <tr>\n",
       "      <th>27</th>\n",
       "      <td>2019-08-05</td>\n",
       "      <td>82</td>\n",
       "    </tr>\n",
       "    <tr>\n",
       "      <th>28</th>\n",
       "      <td>2019-08-06</td>\n",
       "      <td>82</td>\n",
       "    </tr>\n",
       "    <tr>\n",
       "      <th>29</th>\n",
       "      <td>2019-08-07</td>\n",
       "      <td>82</td>\n",
       "    </tr>\n",
       "    <tr>\n",
       "      <th>30</th>\n",
       "      <td>2019-08-08</td>\n",
       "      <td>82</td>\n",
       "    </tr>\n",
       "    <tr>\n",
       "      <th>49</th>\n",
       "      <td>2019-08-31</td>\n",
       "      <td>82</td>\n",
       "    </tr>\n",
       "    <tr>\n",
       "      <th>63</th>\n",
       "      <td>2019-09-17</td>\n",
       "      <td>82</td>\n",
       "    </tr>\n",
       "  </tbody>\n",
       "</table>\n",
       "</div>"
      ],
      "text/plain": [
       "         fecha  num_missings\n",
       "4   2019-07-03            82\n",
       "14  2019-07-20            82\n",
       "22  2019-07-30            82\n",
       "23  2019-07-31            82\n",
       "24  2019-08-01            82\n",
       "25  2019-08-02            82\n",
       "26  2019-08-03            82\n",
       "27  2019-08-05            82\n",
       "28  2019-08-06            82\n",
       "29  2019-08-07            82\n",
       "30  2019-08-08            82\n",
       "49  2019-08-31            82\n",
       "63  2019-09-17            82"
      ]
     },
     "execution_count": 14,
     "metadata": {},
     "output_type": "execute_result"
    }
   ],
   "source": [
    "print(\"   Missings en udsventa sin domingos y festivos para {} fechas de {} totales.\"\\\n",
    "                .format(bydate.loc[bydate.num_missings != 0].shape[0], bydate.shape[0]))\n",
    "print(\"Dias sin ningun dato (de los no festivos):\")\n",
    "bydate.loc[bydate.num_missings == 82].sort_values(\"fecha\")"
   ]
  },
  {
   "cell_type": "markdown",
   "metadata": {},
   "source": [
    "#### Los missings del 23 al 26 de marzo de 2020 son missings reales, los de verano es posible que no haya ventas."
   ]
  },
  {
   "cell_type": "code",
   "execution_count": 15,
   "metadata": {},
   "outputs": [
    {
     "name": "stdout",
     "output_type": "stream",
     "text": [
      "   5 fechas con más missings (sin que sean todos):\n"
     ]
    },
    {
     "data": {
      "text/html": [
       "<div>\n",
       "<style scoped>\n",
       "    .dataframe tbody tr th:only-of-type {\n",
       "        vertical-align: middle;\n",
       "    }\n",
       "\n",
       "    .dataframe tbody tr th {\n",
       "        vertical-align: top;\n",
       "    }\n",
       "\n",
       "    .dataframe thead th {\n",
       "        text-align: right;\n",
       "    }\n",
       "</style>\n",
       "<table border=\"1\" class=\"dataframe\">\n",
       "  <thead>\n",
       "    <tr style=\"text-align: right;\">\n",
       "      <th></th>\n",
       "      <th>fecha</th>\n",
       "      <th>num_missings</th>\n",
       "    </tr>\n",
       "  </thead>\n",
       "  <tbody>\n",
       "    <tr>\n",
       "      <th>5</th>\n",
       "      <td>2019-07-04</td>\n",
       "      <td>77</td>\n",
       "    </tr>\n",
       "    <tr>\n",
       "      <th>50</th>\n",
       "      <td>2019-09-02</td>\n",
       "      <td>74</td>\n",
       "    </tr>\n",
       "    <tr>\n",
       "      <th>15</th>\n",
       "      <td>2019-07-22</td>\n",
       "      <td>53</td>\n",
       "    </tr>\n",
       "    <tr>\n",
       "      <th>13</th>\n",
       "      <td>2019-07-19</td>\n",
       "      <td>46</td>\n",
       "    </tr>\n",
       "    <tr>\n",
       "      <th>216</th>\n",
       "      <td>2020-03-21</td>\n",
       "      <td>40</td>\n",
       "    </tr>\n",
       "  </tbody>\n",
       "</table>\n",
       "</div>"
      ],
      "text/plain": [
       "          fecha  num_missings\n",
       "5    2019-07-04            77\n",
       "50   2019-09-02            74\n",
       "15   2019-07-22            53\n",
       "13   2019-07-19            46\n",
       "216  2020-03-21            40"
      ]
     },
     "execution_count": 15,
     "metadata": {},
     "output_type": "execute_result"
    }
   ],
   "source": [
    "print(\"   5 fechas con más missings (sin que sean todos):\")\n",
    "bydate.loc[bydate.num_missings != 82].head()"
   ]
  },
  {
   "cell_type": "code",
   "execution_count": 16,
   "metadata": {},
   "outputs": [
    {
     "data": {
      "text/plain": [
       "<matplotlib.axes._subplots.AxesSubplot at 0x7fb26e0b2340>"
      ]
     },
     "execution_count": 16,
     "metadata": {},
     "output_type": "execute_result"
    },
    {
     "data": {
      "image/png": "[encoded data removed]",
      "text/plain": [
       "<Figure size 1440x720 with 1 Axes>"
      ]
     },
     "metadata": {
      "needs_background": "light"
     },
     "output_type": "display_data"
    }
   ],
   "source": [
    "bydate.sort_values(\"fecha\").set_index(\"fecha\").plot(figsize=(20,10))"
   ]
  },
  {
   "cell_type": "markdown",
   "metadata": {},
   "source": [
    "# Missings por dia de la semana (contando festivos)"
   ]
  },
  {
   "cell_type": "code",
   "execution_count": 17,
   "metadata": {},
   "outputs": [
    {
     "data": {
      "text/html": [
       "<div>\n",
       "<style scoped>\n",
       "    .dataframe tbody tr th:only-of-type {\n",
       "        vertical-align: middle;\n",
       "    }\n",
       "\n",
       "    .dataframe tbody tr th {\n",
       "        vertical-align: top;\n",
       "    }\n",
       "\n",
       "    .dataframe thead th {\n",
       "        text-align: right;\n",
       "    }\n",
       "</style>\n",
       "<table border=\"1\" class=\"dataframe\">\n",
       "  <thead>\n",
       "    <tr style=\"text-align: right;\">\n",
       "      <th></th>\n",
       "      <th>weekday</th>\n",
       "      <th>num_missings</th>\n",
       "    </tr>\n",
       "  </thead>\n",
       "  <tbody>\n",
       "    <tr>\n",
       "      <th>0</th>\n",
       "      <td>0</td>\n",
       "      <td>371</td>\n",
       "    </tr>\n",
       "    <tr>\n",
       "      <th>1</th>\n",
       "      <td>1</td>\n",
       "      <td>442</td>\n",
       "    </tr>\n",
       "    <tr>\n",
       "      <th>2</th>\n",
       "      <td>2</td>\n",
       "      <td>413</td>\n",
       "    </tr>\n",
       "    <tr>\n",
       "      <th>3</th>\n",
       "      <td>3</td>\n",
       "      <td>438</td>\n",
       "    </tr>\n",
       "    <tr>\n",
       "      <th>4</th>\n",
       "      <td>4</td>\n",
       "      <td>281</td>\n",
       "    </tr>\n",
       "    <tr>\n",
       "      <th>5</th>\n",
       "      <td>5</td>\n",
       "      <td>1520</td>\n",
       "    </tr>\n",
       "    <tr>\n",
       "      <th>6</th>\n",
       "      <td>6</td>\n",
       "      <td>2965</td>\n",
       "    </tr>\n",
       "  </tbody>\n",
       "</table>\n",
       "</div>"
      ],
      "text/plain": [
       "   weekday  num_missings\n",
       "0        0           371\n",
       "1        1           442\n",
       "2        2           413\n",
       "3        3           438\n",
       "4        4           281\n",
       "5        5          1520\n",
       "6        6          2965"
      ]
     },
     "execution_count": 17,
     "metadata": {},
     "output_type": "execute_result"
    }
   ],
   "source": [
    "byday.sort_values(\"weekday\")"
   ]
  },
  {
   "cell_type": "code",
   "execution_count": null,
   "metadata": {},
   "outputs": [],
   "source": []
  }
 ],
 "metadata": {
  "kernelspec": {
   "display_name": "Python 3",
   "language": "python",
   "name": "python3"
  },
  "language_info": {
   "codemirror_mode": {
    "name": "ipython",
    "version": 3
   },
   "file_extension": ".py",
   "mimetype": "text/x-python",
   "name": "python",
   "nbconvert_exporter": "python",
   "pygments_lexer": "ipython3",
   "version": "3.8.1"
  }
 },
 "nbformat": 4,
 "nbformat_minor": 4
}
