{
 "cells": [
  {
   "cell_type": "markdown",
   "metadata": {},
   "source": [
    "<div style=\"background-color: #EDF7FF; border-color: #7C9DBF; border-left: 5px solid #7C9DBF; padding: 0.5em;\">\n",
    " \n",
    "\n",
    "<strong>Objectives:</strong>\n",
    "+ Entender la variable Ventas\n",
    "+ Descartar Productos descatalogados\n",
    "    \n",
    "    \n",
    "<strong>Conclusions:</strong>\n",
    "\n",
    "   \n",
    "</div>"
   ]
  },
  {
   "cell_type": "code",
   "execution_count": 1,
   "metadata": {},
   "outputs": [],
   "source": [
    "import os, sys\n",
    "\n",
    "def get_root_path(search_word):\n",
    "    \"\"\" Búsqueda hacia atrás de un directorio con nombre search_word. \"\"\"\n",
    "    cwd = os.getcwd()\n",
    "    while str(os.getcwd()).split('/')[-1] != search_word:\n",
    "        os.chdir(\"..\")\n",
    "        cwd = os.getcwd()\n",
    "    return cwd\n",
    "\n",
    "ROOT_DIR = get_root_path('TFM_StockForecast')\n",
    "\n",
    "sys.path.insert(0, ROOT_DIR) # Poner en el primer lugar del PATH (evitar paquetes con mismos nombres en otros directorios)"
   ]
  },
  {
   "cell_type": "code",
   "execution_count": 2,
   "metadata": {},
   "outputs": [],
   "source": [
    "import pandas as pd\n",
    "import numpy as np\n",
    "from src.load_data import load_csv"
   ]
  },
  {
   "cell_type": "code",
   "execution_count": 3,
   "metadata": {},
   "outputs": [
    {
     "name": "stdout",
     "output_type": "stream",
     "text": [
      "===================  LOAD DATASET ventas ===================\n",
      "Reading CSV in data/raw/01_TablaVentas.csv...\n",
      "=============  CLEAN CSV  ==============\n",
      "Set columns to lowcase.\n",
      "Sort values by date.\n",
      "Dropped duplicates. Rows dropped: 0.\n",
      "========================================\n",
      "============  CLEAN VENTAS  ============\n",
      "Drop rows with data from products with no stock data or out-of-date (descatalogados). Rows dropped: 14086\n",
      "Number of dates missings:                                223\n",
      "Number of dates missings (droping sundays and festivos): 7\n",
      "UnidadesVentas to integer.\n",
      "========================================\n",
      "Dataset ventas loaded. Shape: (91571, 3)\n",
      "============================================================\n",
      "\n"
     ]
    },
    {
     "data": {
      "text/html": [
       "<div>\n",
       "<style scoped>\n",
       "    .dataframe tbody tr th:only-of-type {\n",
       "        vertical-align: middle;\n",
       "    }\n",
       "\n",
       "    .dataframe tbody tr th {\n",
       "        vertical-align: top;\n",
       "    }\n",
       "\n",
       "    .dataframe thead th {\n",
       "        text-align: right;\n",
       "    }\n",
       "</style>\n",
       "<table border=\"1\" class=\"dataframe\">\n",
       "  <thead>\n",
       "    <tr style=\"text-align: right;\">\n",
       "      <th></th>\n",
       "      <th>fecha</th>\n",
       "      <th>producto</th>\n",
       "      <th>udsventa</th>\n",
       "    </tr>\n",
       "  </thead>\n",
       "  <tbody>\n",
       "    <tr>\n",
       "      <th>0</th>\n",
       "      <td>2015-06-29</td>\n",
       "      <td>24</td>\n",
       "      <td>1151</td>\n",
       "    </tr>\n",
       "    <tr>\n",
       "      <th>1</th>\n",
       "      <td>2015-06-29</td>\n",
       "      <td>18</td>\n",
       "      <td>771</td>\n",
       "    </tr>\n",
       "    <tr>\n",
       "      <th>2</th>\n",
       "      <td>2015-06-29</td>\n",
       "      <td>97</td>\n",
       "      <td>201</td>\n",
       "    </tr>\n",
       "    <tr>\n",
       "      <th>3</th>\n",
       "      <td>2015-06-29</td>\n",
       "      <td>57</td>\n",
       "      <td>1119</td>\n",
       "    </tr>\n",
       "    <tr>\n",
       "      <th>4</th>\n",
       "      <td>2015-06-29</td>\n",
       "      <td>22</td>\n",
       "      <td>423</td>\n",
       "    </tr>\n",
       "    <tr>\n",
       "      <th>...</th>\n",
       "      <td>...</td>\n",
       "      <td>...</td>\n",
       "      <td>...</td>\n",
       "    </tr>\n",
       "    <tr>\n",
       "      <th>91566</th>\n",
       "      <td>2020-03-21</td>\n",
       "      <td>80</td>\n",
       "      <td>693</td>\n",
       "    </tr>\n",
       "    <tr>\n",
       "      <th>91567</th>\n",
       "      <td>2020-03-21</td>\n",
       "      <td>14</td>\n",
       "      <td>6239</td>\n",
       "    </tr>\n",
       "    <tr>\n",
       "      <th>91568</th>\n",
       "      <td>2020-03-21</td>\n",
       "      <td>24</td>\n",
       "      <td>2555</td>\n",
       "    </tr>\n",
       "    <tr>\n",
       "      <th>91569</th>\n",
       "      <td>2020-03-21</td>\n",
       "      <td>30</td>\n",
       "      <td>246</td>\n",
       "    </tr>\n",
       "    <tr>\n",
       "      <th>91570</th>\n",
       "      <td>2020-03-21</td>\n",
       "      <td>35</td>\n",
       "      <td>1997</td>\n",
       "    </tr>\n",
       "  </tbody>\n",
       "</table>\n",
       "<p>91571 rows × 3 columns</p>\n",
       "</div>"
      ],
      "text/plain": [
       "           fecha producto  udsventa\n",
       "0     2015-06-29       24      1151\n",
       "1     2015-06-29       18       771\n",
       "2     2015-06-29       97       201\n",
       "3     2015-06-29       57      1119\n",
       "4     2015-06-29       22       423\n",
       "...          ...      ...       ...\n",
       "91566 2020-03-21       80       693\n",
       "91567 2020-03-21       14      6239\n",
       "91568 2020-03-21       24      2555\n",
       "91569 2020-03-21       30       246\n",
       "91570 2020-03-21       35      1997\n",
       "\n",
       "[91571 rows x 3 columns]"
      ]
     },
     "execution_count": 3,
     "metadata": {},
     "output_type": "execute_result"
    }
   ],
   "source": [
    "df = load_csv(\"ventas\")\n",
    "\n",
    "df"
   ]
  },
  {
   "cell_type": "code",
   "execution_count": null,
   "metadata": {},
   "outputs": [],
   "source": [
    "df.loc[~df.producto.isin(products.producto)]"
   ]
  },
  {
   "cell_type": "markdown",
   "metadata": {},
   "source": [
    "## Productos descatalogados"
   ]
  },
  {
   "cell_type": "code",
   "execution_count": null,
   "metadata": {},
   "outputs": [],
   "source": [
    "ventas_byprod = pd.read_csv(\"data/clean/ventas_byprod.csv\")\n",
    "stock_byprod = pd.read_csv(\"data/clean/stock_byprod.csv\")\n",
    "\n",
    "ventas_byprod = ventas_byprod.loc[:,[\"producto\",\"fecha_primera_venta\",\"fecha_ultima_venta\"]]\n",
    "stock_byprod = stock_byprod.loc[:,[\"producto\",\"fecha_primer_stock\",\"fecha_ultimo_stock\"]]\n",
    "prod = ventas_byprod.merge(stock_byprod, how ='outer', on='producto')\n",
    "\n",
    "#prod.loc[prod.fecha_ultima_venta < '2020-03-01']\n",
    "\n",
    "prod.loc[prod.fecha_primer_stock.isna()]"
   ]
  },
  {
   "cell_type": "code",
   "execution_count": null,
   "metadata": {},
   "outputs": [],
   "source": [
    " = pd.read_csv(\"ventas_byprod.csv\")\n",
    "\n",
    "\n",
    "ventas.head()"
   ]
  },
  {
   "cell_type": "markdown",
   "metadata": {},
   "source": [
    "# Cuantos datos por días para cada producto hay en stock"
   ]
  },
  {
   "cell_type": "code",
   "execution_count": null,
   "metadata": {},
   "outputs": [],
   "source": [
    "df_gr = df.groupby([\"fecha\",\"producto\"])[\"udsstock\"].count().reset_index()\n",
    "\n",
    "df_gr"
   ]
  },
  {
   "cell_type": "markdown",
   "metadata": {},
   "source": [
    "# Cuantos datos por dia hay de media para cada producto?"
   ]
  },
  {
   "cell_type": "code",
   "execution_count": null,
   "metadata": {},
   "outputs": [],
   "source": [
    "df_gr_gr = df_gr.groupby(\"producto\")['udsstock'].mean().reset_index()"
   ]
  },
  {
   "cell_type": "code",
   "execution_count": null,
   "metadata": {},
   "outputs": [],
   "source": [
    "df_gr_gr.loc[df_gr_gr.udsstock < 1.97]"
   ]
  },
  {
   "cell_type": "markdown",
   "metadata": {},
   "source": [
    "# Estudiar time series para un prodcuto en concreto: 38"
   ]
  },
  {
   "cell_type": "code",
   "execution_count": null,
   "metadata": {},
   "outputs": [],
   "source": [
    "df_38 = df.loc[df.producto == '38', [\"fecha\", \"udsstock\"]].set_index(\"fecha\")\n",
    "\n",
    "df_38.head()"
   ]
  },
  {
   "cell_type": "code",
   "execution_count": null,
   "metadata": {},
   "outputs": [],
   "source": [
    "df_38.plot(figsize=(20,10))"
   ]
  },
  {
   "cell_type": "code",
   "execution_count": null,
   "metadata": {},
   "outputs": [],
   "source": [
    "df_38.loc[(df_38.index > '2019-06-20') & (df_38.index < '2019-07-10')].plot(figsize=(20,10), kind='bar')"
   ]
  },
  {
   "cell_type": "code",
   "execution_count": null,
   "metadata": {},
   "outputs": [],
   "source": [
    "ventas_38 = ventas.loc[ventas.producto == '38', [\"fecha\", \"udsventa\"]].set_index(\"fecha\")\n",
    "ventas_38.loc[(ventas_38.index > '2019-06-20') & (ventas_38.index < '2019-07-10')].plot(figsize=(20,10), kind='bar')"
   ]
  },
  {
   "cell_type": "code",
   "execution_count": null,
   "metadata": {},
   "outputs": [],
   "source": [
    "ventas_38.loc[(ventas_38.index > '2019-06-04') & (ventas_38.index < '2019-06-20')]"
   ]
  },
  {
   "cell_type": "code",
   "execution_count": null,
   "metadata": {},
   "outputs": [],
   "source": [
    "df_38.loc[df_38.index < '2019-06-20']"
   ]
  },
  {
   "cell_type": "code",
   "execution_count": null,
   "metadata": {},
   "outputs": [],
   "source": [
    "df_38.median()"
   ]
  },
  {
   "cell_type": "markdown",
   "metadata": {},
   "source": [
    "# Intervalos sin valor"
   ]
  },
  {
   "cell_type": "code",
   "execution_count": null,
   "metadata": {},
   "outputs": [],
   "source": [
    "# PRINT EDA FOR STOCK DATA\n",
    "df = pd.read_csv(\"data/clean/stock_all.csv\", parse_dates= [\"fecha\"])\n",
    "\n",
    "variable = \"udsstock\"\n",
    "\n",
    "df.dtypes"
   ]
  },
  {
   "cell_type": "code",
   "execution_count": null,
   "metadata": {},
   "outputs": [],
   "source": [
    "def get_event_interval(in_df):\n",
    "    \"\"\"\n",
    "    Calculates a new dataframe with the initial time, the final time and the value in the event.\n",
    "    \n",
    "    Args:\n",
    "        df (pd.DataFrame): Streaming dataset where the first column contains the date (in\n",
    "                           datetime format) and the second column contains the values of each\n",
    "                           record. Event changes will be specified by changes in the second column.\n",
    "    Returns:\n",
    "        pd.DataFrame: a DataFrame with four columns: the initial time, the final time, the \n",
    "                      value that the variable catch during the event and the duration of the\n",
    "                      event in seconds.\n",
    "    \"\"\"\n",
    "    # Ordenamos por la primera columna y copiamos el dataframe\n",
    "    df = in_df.sort_values(in_df.columns[0]).copy()\n",
    "    \n",
    "    inicio_evento = (df.iloc[:,1] != df.iloc[:,1].shift(1))\n",
    "    t_inicial = df[inicio_evento].iloc[:,0]\n",
    "    fin_evento = inicio_evento.shift(-1, fill_value=True)\n",
    "    t_final = df[fin_evento].iloc[:,0]\n",
    "    value = df[fin_evento].iloc[:,1]\n",
    "    \n",
    "    # Calculamos duracion del evento\n",
    "    duracion = pd.Series(t_final.values - t_inicial.values).dt.total_seconds().astype(np.int)/(24*3600)\n",
    "    duracion = duracion + 1\n",
    "    \n",
    "    # Conformar dataset de salida\n",
    "    out_df = pd.DataFrame({'start_date': t_inicial.values, 'end_date': t_final.values, \n",
    "                           'value': value.values, 'duration': duracion.values})\n",
    "    \n",
    "    return out_df"
   ]
  },
  {
   "cell_type": "code",
   "execution_count": null,
   "metadata": {},
   "outputs": [],
   "source": [
    "total_missings = []\n",
    "num_intervalos = []\n",
    "media_intervalos = []\n",
    "num_intervalos_1dia = []\n",
    "products = df.producto.unique()\n",
    "\n",
    "for product in products:\n",
    "    subdf = df.loc[df.producto == product, [\"fecha\", \"udsstock\"]]\n",
    "    df_intervals = get_event_interval(subdf.fillna(0))\n",
    "    res = df_intervals.loc[df_intervals.value == 0]\n",
    "    total_missings.append(res.duration.sum())\n",
    "    media_intervalos.append(res.duration.mean())\n",
    "    num_intervalos.append(res.duration.count())\n",
    "    num_intervalos_1dia.append(res.loc[res.duration == 1].duration.count())\n",
    "    \n",
    "results = pd.DataFrame({\"productos\":products,\n",
    "                        \"total_missings\": total_missings,\n",
    "                        \"num_intervalos\": num_intervalos,\n",
    "                        \"media_intervalos\": media_intervalos,\n",
    "                       \"num_intervalos_1dia\":num_intervalos_1dia})\n",
    "\n",
    "results.describe()"
   ]
  },
  {
   "cell_type": "markdown",
   "metadata": {},
   "source": [
    "### Numero de intervalos totales y numero de intervalos de 1 dia"
   ]
  },
  {
   "cell_type": "code",
   "execution_count": null,
   "metadata": {},
   "outputs": [],
   "source": [
    "results.total_missings.sum()"
   ]
  },
  {
   "cell_type": "code",
   "execution_count": null,
   "metadata": {},
   "outputs": [],
   "source": [
    "results.num_intervalos.sum()"
   ]
  },
  {
   "cell_type": "code",
   "execution_count": null,
   "metadata": {},
   "outputs": [],
   "source": [
    "results.num_intervalos_1dia.sum()"
   ]
  },
  {
   "cell_type": "markdown",
   "metadata": {},
   "source": [
    "### Numero de missings por intervalo mayor de 5"
   ]
  },
  {
   "cell_type": "code",
   "execution_count": null,
   "metadata": {},
   "outputs": [],
   "source": [
    "results.loc[results.media_intervalos > 5]"
   ]
  },
  {
   "cell_type": "code",
   "execution_count": null,
   "metadata": {},
   "outputs": [],
   "source": [
    "results.loc[results.total_missings == num_intervalos_1dia]"
   ]
  },
  {
   "cell_type": "code",
   "execution_count": null,
   "metadata": {},
   "outputs": [],
   "source": []
  }
 ],
 "metadata": {
  "kernelspec": {
   "display_name": "Python 3",
   "language": "python",
   "name": "python3"
  },
  "language_info": {
   "codemirror_mode": {
    "name": "ipython",
    "version": 3
   },
   "file_extension": ".py",
   "mimetype": "text/x-python",
   "name": "python",
   "nbconvert_exporter": "python",
   "pygments_lexer": "ipython3",
   "version": "3.8.1"
  }
 },
 "nbformat": 4,
 "nbformat_minor": 4
}
